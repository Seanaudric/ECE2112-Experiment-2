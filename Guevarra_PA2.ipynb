{
 "cells": [
  {
   "cell_type": "markdown",
   "id": "6284b552-7149-493f-afec-7d4abfd9e266",
   "metadata": {},
   "source": [
    "Experiment 2 - Introduction to Python Programming"
   ]
  },
  {
   "cell_type": "markdown",
   "id": "e168d0d6-921a-4c02-8a6f-45dcb6cdba76",
   "metadata": {},
   "source": [
    "1) Normalization Problem"
   ]
  },
  {
   "cell_type": "code",
   "execution_count": 14,
   "id": "d7107a9e-0584-4235-a5fe-84f233b1a75b",
   "metadata": {},
   "outputs": [
    {
     "name": "stdout",
     "output_type": "stream",
     "text": [
      "Normalized array:\n",
      "[[ 0.976564    0.73664067 -0.73724194  0.89791667 -1.56224445]\n",
      " [ 0.07137883  0.09149763 -0.69104448  0.0591272  -0.03368885]\n",
      " [-0.22102832  0.74961602  1.05147327  0.08755873 -0.05237739]\n",
      " [-1.5689826   1.13222518 -0.00354155  0.885864   -1.63705684]\n",
      " [ 1.22182822 -1.65831953  0.32585151 -1.78234436  1.66032838]]\n"
     ]
    }
   ],
   "source": [
    "import numpy as np\n",
    "\n",
    "X = np.random.rand(5, 5)\n",
    "\n",
    "mean_of_x = X.mean()\n",
    "std_of_X = X.std()\n",
    "\n",
    "X_normalized = (X - mean_of_x) / std_of_X\n",
    "\n",
    "np.save('X_normalized.npy', X_normalized)\n",
    "\n",
    "X_loaded = np.load('X_normalized.npy')\n",
    "print(\"Normalized array:\")\n",
    "print(X_loaded)"
   ]
  },
  {
   "cell_type": "markdown",
   "id": "b70afdaf-b6f2-44b9-9c64-a81621abb570",
   "metadata": {},
   "source": [
    "2) Divisible by 3 Problem"
   ]
  },
  {
   "cell_type": "code",
   "execution_count": 24,
   "id": "fff01270-f6f7-48e0-981d-6df5e505cb12",
   "metadata": {},
   "outputs": [
    {
     "name": "stdout",
     "output_type": "stream",
     "text": [
      "10x10 ndarray:\n",
      "[[    1     4     9    16    25    36    49    64    81   100]\n",
      " [  121   144   169   196   225   256   289   324   361   400]\n",
      " [  441   484   529   576   625   676   729   784   841   900]\n",
      " [  961  1024  1089  1156  1225  1296  1369  1444  1521  1600]\n",
      " [ 1681  1764  1849  1936  2025  2116  2209  2304  2401  2500]\n",
      " [ 2601  2704  2809  2916  3025  3136  3249  3364  3481  3600]\n",
      " [ 3721  3844  3969  4096  4225  4356  4489  4624  4761  4900]\n",
      " [ 5041  5184  5329  5476  5625  5776  5929  6084  6241  6400]\n",
      " [ 6561  6724  6889  7056  7225  7396  7569  7744  7921  8100]\n",
      " [ 8281  8464  8649  8836  9025  9216  9409  9604  9801 10000]]\n",
      "\n",
      "Elements in the ndarray that are divisible by 3:\n",
      "[   9   36   81  144  225  324  441  576  729  900 1089 1296 1521 1764\n",
      " 2025 2304 2601 2916 3249 3600 3969 4356 4761 5184 5625 6084 6561 7056\n",
      " 7569 8100 8649 9216 9801]\n"
     ]
    }
   ],
   "source": [
    "import numpy as np\n",
    "\n",
    "integers = np.arange(1, 101)\n",
    "\n",
    "Y = integers.reshape(10, 10) ** 2\n",
    "\n",
    "div_by_3 = Y[Y % 3 == 0]\n",
    "\n",
    "np.save('div_by_3.npy', div_by_3)\n",
    "\n",
    "print(\"10x10 ndarray:\")\n",
    "print(Y)\n",
    "print(\"\\nElements in the ndarray that are divisible by 3:\")\n",
    "print(div_by_3)"
   ]
  },
  {
   "cell_type": "code",
   "execution_count": null,
   "id": "12afd537-cd8a-45bc-8cc0-b277f2a7c4e0",
   "metadata": {},
   "outputs": [],
   "source": []
  }
 ],
 "metadata": {
  "kernelspec": {
   "display_name": "Python 3 (ipykernel)",
   "language": "python",
   "name": "python3"
  },
  "language_info": {
   "codemirror_mode": {
    "name": "ipython",
    "version": 3
   },
   "file_extension": ".py",
   "mimetype": "text/x-python",
   "name": "python",
   "nbconvert_exporter": "python",
   "pygments_lexer": "ipython3",
   "version": "3.12.4"
  }
 },
 "nbformat": 4,
 "nbformat_minor": 5
}
